{
 "cells": [
  {
   "cell_type": "markdown",
   "metadata": {},
   "source": [
    "# Monthly Milk Production\n",
    "\n",
    "Data overview \n",
    "\n",
    "Monthly milk production - pounds per cow from January 1962 to December 1975"
   ]
  },
  {
   "cell_type": "markdown",
   "metadata": {},
   "source": [
    "## Reading file "
   ]
  },
  {
   "cell_type": "code",
   "execution_count": 1,
   "metadata": {},
   "outputs": [
    {
     "data": {
      "text/plain": [
       "'C:\\\\Users\\\\Soham\\\\Desktop\\\\milk'"
      ]
     },
     "execution_count": 1,
     "metadata": {},
     "output_type": "execute_result"
    }
   ],
   "source": [
    "import os\n",
    "os.chdir(r\"C:\\Users\\Soham\\Desktop\\milk\")\n",
    "import numpy as np\n",
    "import pandas as pd\n",
    "import matplotlib.pyplot as plt\n",
    "%matplotlib inline\n",
    "os.getcwd()"
   ]
  },
  {
   "cell_type": "code",
   "execution_count": 2,
   "metadata": {},
   "outputs": [],
   "source": [
    "milk = pd.read_csv('milk_data_set.csv',index_col='Month')"
   ]
  },
  {
   "cell_type": "markdown",
   "metadata": {},
   "source": [
    "Check out the head of data frame"
   ]
  },
  {
   "cell_type": "code",
   "execution_count": 3,
   "metadata": {},
   "outputs": [
    {
     "data": {
      "text/html": [
       "<div>\n",
       "<style scoped>\n",
       "    .dataframe tbody tr th:only-of-type {\n",
       "        vertical-align: middle;\n",
       "    }\n",
       "\n",
       "    .dataframe tbody tr th {\n",
       "        vertical-align: top;\n",
       "    }\n",
       "\n",
       "    .dataframe thead th {\n",
       "        text-align: right;\n",
       "    }\n",
       "</style>\n",
       "<table border=\"1\" class=\"dataframe\">\n",
       "  <thead>\n",
       "    <tr style=\"text-align: right;\">\n",
       "      <th></th>\n",
       "      <th>Monthly milk production (pounds per cow)</th>\n",
       "    </tr>\n",
       "    <tr>\n",
       "      <th>Month</th>\n",
       "      <th></th>\n",
       "    </tr>\n",
       "  </thead>\n",
       "  <tbody>\n",
       "    <tr>\n",
       "      <th>1962-01</th>\n",
       "      <td>589</td>\n",
       "    </tr>\n",
       "    <tr>\n",
       "      <th>1962-02</th>\n",
       "      <td>561</td>\n",
       "    </tr>\n",
       "    <tr>\n",
       "      <th>1962-03</th>\n",
       "      <td>640</td>\n",
       "    </tr>\n",
       "    <tr>\n",
       "      <th>1962-04</th>\n",
       "      <td>656</td>\n",
       "    </tr>\n",
       "    <tr>\n",
       "      <th>1962-05</th>\n",
       "      <td>727</td>\n",
       "    </tr>\n",
       "  </tbody>\n",
       "</table>\n",
       "</div>"
      ],
      "text/plain": [
       "         Monthly milk production (pounds per cow)\n",
       "Month                                            \n",
       "1962-01                                       589\n",
       "1962-02                                       561\n",
       "1962-03                                       640\n",
       "1962-04                                       656\n",
       "1962-05                                       727"
      ]
     },
     "execution_count": 3,
     "metadata": {},
     "output_type": "execute_result"
    }
   ],
   "source": [
    "milk.head()"
   ]
  },
  {
   "cell_type": "markdown",
   "metadata": {},
   "source": [
    " Make a index of time series"
   ]
  },
  {
   "cell_type": "code",
   "execution_count": 4,
   "metadata": {},
   "outputs": [],
   "source": [
    "milk.index = pd.to_datetime(milk.index)"
   ]
  },
  {
   "cell_type": "markdown",
   "metadata": {},
   "source": [
    "## Plot out the time series data"
   ]
  },
  {
   "cell_type": "code",
   "execution_count": 5,
   "metadata": {},
   "outputs": [
    {
     "data": {
      "text/plain": [
       "<matplotlib.axes._subplots.AxesSubplot at 0x8b76710>"
      ]
     },
     "execution_count": 5,
     "metadata": {},
     "output_type": "execute_result"
    },
    {
     "data": {
      "image/png": "[encoded data removed]",
      "text/plain": [
       "<Figure size 432x288 with 1 Axes>"
      ]
     },
     "metadata": {
      "needs_background": "light"
     },
     "output_type": "display_data"
    }
   ],
   "source": [
    "milk.plot()"
   ]
  },
  {
   "cell_type": "markdown",
   "metadata": {},
   "source": [
    "## Train-Test split\n",
    "\n",
    "Create a train test split using indexing (hint - .head() , .tail() , .iloc[])\n",
    "\n",
    "Here , basically we want to specify that the test set is the last 12 months of data , with everything before it is the training "
   ]
  },
  {
   "cell_type": "code",
   "execution_count": 6,
   "metadata": {},
   "outputs": [
    {
     "name": "stdout",
     "output_type": "stream",
     "text": [
      "<class 'pandas.core.frame.DataFrame'>\n",
      "DatetimeIndex: 168 entries, 1962-01-01 to 1975-12-01\n",
      "Data columns (total 1 columns):\n",
      "Monthly milk production (pounds per cow)    168 non-null int64\n",
      "dtypes: int64(1)\n",
      "memory usage: 2.6 KB\n"
     ]
    }
   ],
   "source": [
    "milk.info()\n",
    "train_set = milk.head(156)\n",
    "test_set = milk.tail(12)"
   ]
  },
  {
   "cell_type": "markdown",
   "metadata": {},
   "source": [
    "## Scale the data\n",
    "\n",
    "Use sklearn.preprocessing to scale data using MinMaxScaler. Remember to only fit_transform on the training data , then transform the test data"
   ]
  },
  {
   "cell_type": "code",
   "execution_count": 7,
   "metadata": {},
   "outputs": [],
   "source": [
    "from sklearn.preprocessing import MinMaxScaler\n",
    "scaler = MinMaxScaler()\n",
    "train_scaled = scaler.fit_transform(train_set)\n",
    "test_scaled = scaler.fit_transform(test_set)"
   ]
  },
  {
   "cell_type": "markdown",
   "metadata": {},
   "source": [
    "## Batch function\n",
    "\n",
    "We will need a function that can feed batches of the training data"
   ]
  },
  {
   "cell_type": "code",
   "execution_count": 8,
   "metadata": {},
   "outputs": [],
   "source": [
    "def next_batch(training_data,batch_size,steps):\n",
    "    rand_start = np.random.randint(0,len(training_data)-steps)\n",
    "    y_batch = np.array(training_data[rand_start:rand_start+steps+1]).reshape(1,steps+1)\n",
    "    return y_batch[:,:-1].reshape(-1,steps,1),y_batch[:,1:].reshape(-1,steps,1)"
   ]
  },
  {
   "cell_type": "markdown",
   "metadata": {},
   "source": [
    "## Setting up RNN model"
   ]
  },
  {
   "cell_type": "code",
   "execution_count": 9,
   "metadata": {},
   "outputs": [],
   "source": [
    "import tensorflow as tf"
   ]
  },
  {
   "cell_type": "markdown",
   "metadata": {},
   "source": [
    "## The constants\n",
    "\n",
    "Define a constant in a single cell . Here , in parenthesiS of each constant , there are some values which are for solution . you can change it.\n",
    "\n",
    "num_inputs(1)\n",
    "\n",
    "num_time_steps (12)\n",
    "\n",
    "num_neurons (200)\n",
    "\n",
    "num_outputs (1)\n",
    "\n",
    "learning_rate (0.05)\n",
    "\n",
    "num_train_iterations (3000)\n",
    "\n",
    "batch_size (1)"
   ]
  },
  {
   "cell_type": "code",
   "execution_count": 10,
   "metadata": {},
   "outputs": [],
   "source": [
    "num_inputs = 1\n",
    "num_time_steps = 12\n",
    "num_neurons = 200\n",
    "num_outputs = 1\n",
    "learning_rate = 0.05\n",
    "num_train_iterations = 3000\n",
    "batch_size = 1"
   ]
  },
  {
   "cell_type": "markdown",
   "metadata": {},
   "source": [
    "## Create placeholders for X and y\n",
    "\n",
    "The shape for these placeholders should be [None,num_time_steps-1,num_inputs] and [None,num_time_steps-1,num_outputs] . The reason we use num_time_steps-1 is because each of this will be one step shorter than original time series size , because we are training the RNN network to predict one point into the future based on the input sequence"
   ]
  },
  {
   "cell_type": "code",
   "execution_count": 11,
   "metadata": {},
   "outputs": [],
   "source": [
    "X = tf.placeholder(tf.float32,[None,num_time_steps,num_inputs])\n",
    "y = tf.placeholder(tf.float32,[None,num_time_steps,num_outputs])"
   ]
  },
  {
   "cell_type": "markdown",
   "metadata": {},
   "source": [
    "## Create RNN layer"
   ]
  },
  {
   "cell_type": "code",
   "execution_count": 12,
   "metadata": {
    "scrolled": true
   },
   "outputs": [
    {
     "name": "stderr",
     "output_type": "stream",
     "text": [
      "WARNING: Logging before flag parsing goes to stderr.\n",
      "W0823 22:40:53.339267   652 lazy_loader.py:50] \n",
      "The TensorFlow contrib module will not be included in TensorFlow 2.0.\n",
      "For more information, please see:\n",
      "  * https://github.com/tensorflow/community/blob/master/rfcs/20180907-contrib-sunset.md\n",
      "  * https://github.com/tensorflow/addons\n",
      "  * https://github.com/tensorflow/io (for I/O related ops)\n",
      "If you depend on functionality not listed there, please file an issue.\n",
      "\n",
      "W0823 22:40:53.350267   652 deprecation.py:323] From <ipython-input-12-a24cf5a927c9>:2: BasicLSTMCell.__init__ (from tensorflow.python.ops.rnn_cell_impl) is deprecated and will be removed in a future version.\n",
      "Instructions for updating:\n",
      "This class is equivalent as tf.keras.layers.LSTMCell, and will be replaced by that in Tensorflow 2.0.\n"
     ]
    }
   ],
   "source": [
    "cell = tf.contrib.rnn.OutputProjectionWrapper(tf.contrib.rnn.BasicLSTMCell(\n",
    "    num_units=num_neurons, activation =tf.nn.relu),output_size = num_outputs)"
   ]
  },
  {
   "cell_type": "markdown",
   "metadata": {},
   "source": [
    "Now pass in the cells varriable into  tf.nn.dynamic_rnn along with first placeholder X"
   ]
  },
  {
   "cell_type": "code",
   "execution_count": 13,
   "metadata": {},
   "outputs": [
    {
     "name": "stderr",
     "output_type": "stream",
     "text": [
      "W0823 22:40:53.369268   652 deprecation.py:323] From <ipython-input-13-2a82ee6a6a5d>:1: dynamic_rnn (from tensorflow.python.ops.rnn) is deprecated and will be removed in a future version.\n",
      "Instructions for updating:\n",
      "Please use `keras.layers.RNN(cell)`, which is equivalent to this API\n",
      "W0823 22:40:54.393327   652 deprecation.py:506] From C:\\Users\\Soham\\Anaconda3\\lib\\site-packages\\tensorflow\\python\\ops\\init_ops.py:1251: calling VarianceScaling.__init__ (from tensorflow.python.ops.init_ops) with dtype is deprecated and will be removed in a future version.\n",
      "Instructions for updating:\n",
      "Call initializer instance with the dtype argument instead of passing it to the constructor\n",
      "W0823 22:40:54.453330   652 deprecation.py:506] From C:\\Users\\Soham\\Anaconda3\\lib\\site-packages\\tensorflow\\python\\ops\\rnn_cell_impl.py:738: calling Zeros.__init__ (from tensorflow.python.ops.init_ops) with dtype is deprecated and will be removed in a future version.\n",
      "Instructions for updating:\n",
      "Call initializer instance with the dtype argument instead of passing it to the constructor\n",
      "W0823 22:40:57.425500   652 deprecation.py:506] From C:\\Users\\Soham\\Anaconda3\\lib\\site-packages\\tensorflow\\contrib\\rnn\\python\\ops\\core_rnn_cell.py:104: calling Constant.__init__ (from tensorflow.python.ops.init_ops) with dtype is deprecated and will be removed in a future version.\n",
      "Instructions for updating:\n",
      "Call initializer instance with the dtype argument instead of passing it to the constructor\n"
     ]
    }
   ],
   "source": [
    "outputs , states = tf.nn.dynamic_rnn(cell,X,dtype = tf.float32)"
   ]
  },
  {
   "cell_type": "markdown",
   "metadata": {},
   "source": [
    "## Loss function and optimizer\n",
    "\n",
    "Create mean squared error loss function, use it to minimize an Adam\n",
    "Optimizer, remember to pass in learning rate"
   ]
  },
  {
   "cell_type": "code",
   "execution_count": 14,
   "metadata": {},
   "outputs": [],
   "source": [
    "loss = tf.reduce_mean(tf.square(outputs-y))\n",
    "optimizer = tf.train.AdamOptimizer(learning_rate = learning_rate)\n",
    "train = optimizer.minimize(loss)"
   ]
  },
  {
   "cell_type": "markdown",
   "metadata": {},
   "source": [
    "Intialize the global variables and create an instance of tf.train.Saver()"
   ]
  },
  {
   "cell_type": "code",
   "execution_count": 15,
   "metadata": {},
   "outputs": [],
   "source": [
    "init = tf.global_variables_initializer()\n",
    "saver = tf.train.Saver()"
   ]
  },
  {
   "cell_type": "markdown",
   "metadata": {},
   "source": [
    "## Session\n",
    "\n",
    "Run Tensor flow session that trains on the batches created by next_batch\n",
    "function and also add a loss evalution for every 100 training iterations"
   ]
  },
  {
   "cell_type": "code",
   "execution_count": 16,
   "metadata": {},
   "outputs": [],
   "source": [
    "gpu_options = tf.GPUOptions(per_process_gpu_memory_fraction=0.9)"
   ]
  },
  {
   "cell_type": "code",
   "execution_count": 17,
   "metadata": {},
   "outputs": [
    {
     "name": "stdout",
     "output_type": "stream",
     "text": [
      "0 \tMSE 815551.3\n",
      "200 \tMSE 0.04282625\n",
      "400 \tMSE 0.012994054\n",
      "600 \tMSE 0.012510677\n",
      "800 \tMSE 0.01002481\n",
      "1000 \tMSE 0.011912115\n",
      "1200 \tMSE 0.011597359\n",
      "1400 \tMSE 0.011285614\n",
      "1600 \tMSE 0.0063058506\n",
      "1800 \tMSE 0.008136883\n",
      "2000 \tMSE 0.011449672\n",
      "2200 \tMSE 0.010401604\n",
      "2400 \tMSE 0.0113203535\n",
      "2600 \tMSE 0.006379453\n",
      "2800 \tMSE 0.009324121\n"
     ]
    }
   ],
   "source": [
    "with tf.Session(config = tf.ConfigProto(gpu_options = gpu_options)) as sess:\n",
    "\n",
    "    sess.run(init)\n",
    "\n",
    "    for iteration in range(num_train_iterations):\n",
    "        \n",
    "        X_batch , y_batch = next_batch(train_scaled,batch_size,num_time_steps)\n",
    "        \n",
    "        sess.run(train,feed_dict={X:X_batch,y:y_batch})\n",
    "        if iteration %200 == 0:\n",
    "            mse = loss.eval(feed_dict={X:X_batch,y:y_batch})\n",
    "            print (iteration,\"\\tMSE\",mse)\n",
    "    saver.save(sess, \"./ex_time_series_model_codealong\")"
   ]
  },
  {
   "cell_type": "markdown",
   "metadata": {},
   "source": [
    "## Testing data"
   ]
  },
  {
   "cell_type": "code",
   "execution_count": 18,
   "metadata": {},
   "outputs": [
    {
     "data": {
      "text/html": [
       "<div>\n",
       "<style scoped>\n",
       "    .dataframe tbody tr th:only-of-type {\n",
       "        vertical-align: middle;\n",
       "    }\n",
       "\n",
       "    .dataframe tbody tr th {\n",
       "        vertical-align: top;\n",
       "    }\n",
       "\n",
       "    .dataframe thead th {\n",
       "        text-align: right;\n",
       "    }\n",
       "</style>\n",
       "<table border=\"1\" class=\"dataframe\">\n",
       "  <thead>\n",
       "    <tr style=\"text-align: right;\">\n",
       "      <th></th>\n",
       "      <th>Monthly milk production (pounds per cow)</th>\n",
       "    </tr>\n",
       "    <tr>\n",
       "      <th>Month</th>\n",
       "      <th></th>\n",
       "    </tr>\n",
       "  </thead>\n",
       "  <tbody>\n",
       "    <tr>\n",
       "      <th>1975-01-01</th>\n",
       "      <td>834</td>\n",
       "    </tr>\n",
       "    <tr>\n",
       "      <th>1975-02-01</th>\n",
       "      <td>782</td>\n",
       "    </tr>\n",
       "    <tr>\n",
       "      <th>1975-03-01</th>\n",
       "      <td>892</td>\n",
       "    </tr>\n",
       "    <tr>\n",
       "      <th>1975-04-01</th>\n",
       "      <td>903</td>\n",
       "    </tr>\n",
       "    <tr>\n",
       "      <th>1975-05-01</th>\n",
       "      <td>966</td>\n",
       "    </tr>\n",
       "    <tr>\n",
       "      <th>1975-06-01</th>\n",
       "      <td>937</td>\n",
       "    </tr>\n",
       "    <tr>\n",
       "      <th>1975-07-01</th>\n",
       "      <td>896</td>\n",
       "    </tr>\n",
       "    <tr>\n",
       "      <th>1975-08-01</th>\n",
       "      <td>858</td>\n",
       "    </tr>\n",
       "    <tr>\n",
       "      <th>1975-09-01</th>\n",
       "      <td>817</td>\n",
       "    </tr>\n",
       "    <tr>\n",
       "      <th>1975-10-01</th>\n",
       "      <td>827</td>\n",
       "    </tr>\n",
       "    <tr>\n",
       "      <th>1975-11-01</th>\n",
       "      <td>797</td>\n",
       "    </tr>\n",
       "    <tr>\n",
       "      <th>1975-12-01</th>\n",
       "      <td>843</td>\n",
       "    </tr>\n",
       "  </tbody>\n",
       "</table>\n",
       "</div>"
      ],
      "text/plain": [
       "            Monthly milk production (pounds per cow)\n",
       "Month                                               \n",
       "1975-01-01                                       834\n",
       "1975-02-01                                       782\n",
       "1975-03-01                                       892\n",
       "1975-04-01                                       903\n",
       "1975-05-01                                       966\n",
       "1975-06-01                                       937\n",
       "1975-07-01                                       896\n",
       "1975-08-01                                       858\n",
       "1975-09-01                                       817\n",
       "1975-10-01                                       827\n",
       "1975-11-01                                       797\n",
       "1975-12-01                                       843"
      ]
     },
     "execution_count": 18,
     "metadata": {},
     "output_type": "execute_result"
    }
   ],
   "source": [
    "test_set"
   ]
  },
  {
   "cell_type": "markdown",
   "metadata": {},
   "source": [
    "## Generative session\n",
    "\n",
    "Fill out the session code to generate 12 months of data based of the last 12 months of data from the training set"
   ]
  },
  {
   "cell_type": "code",
   "execution_count": 19,
   "metadata": {},
   "outputs": [
    {
     "name": "stderr",
     "output_type": "stream",
     "text": [
      "W0823 22:54:11.663928   652 deprecation.py:323] From C:\\Users\\Soham\\Anaconda3\\lib\\site-packages\\tensorflow\\python\\training\\saver.py:1276: checkpoint_exists (from tensorflow.python.training.checkpoint_management) is deprecated and will be removed in a future version.\n",
      "Instructions for updating:\n",
      "Use standard file APIs to check for files with this prefix.\n"
     ]
    }
   ],
   "source": [
    "with tf.Session() as sess:\n",
    "    saver.restore(sess, \"./ex_time_series_model_codealong\")\n",
    "    train_seed = list(train_scaled[-12:])\n",
    "    for iteration in range (12):\n",
    "        X_batch = np.array(train_seed[-num_time_steps:]).reshape(1,num_time_steps,1)\n",
    "        y_pred = sess.run(outputs,feed_dict = {X:X_batch})\n",
    "        train_seed.append(y_pred[0,-1,0])"
   ]
  },
  {
   "cell_type": "code",
   "execution_count": 20,
   "metadata": {},
   "outputs": [
    {
     "data": {
      "text/plain": [
       "[array([0.66105769]),\n",
       " array([0.54086538]),\n",
       " array([0.80769231]),\n",
       " array([0.83894231]),\n",
       " array([1.]),\n",
       " array([0.94711538]),\n",
       " array([0.85336538]),\n",
       " array([0.75480769]),\n",
       " array([0.62980769]),\n",
       " array([0.62259615]),\n",
       " array([0.52884615]),\n",
       " array([0.625]),\n",
       " 0.6140299,\n",
       " 0.63771844,\n",
       " 0.6513331,\n",
       " 0.6539974,\n",
       " 0.67377067,\n",
       " 0.67894006,\n",
       " 0.67737293,\n",
       " 0.65902615,\n",
       " 0.61867905,\n",
       " 0.57778585,\n",
       " 0.52162814,\n",
       " 0.50044596]"
      ]
     },
     "execution_count": 20,
     "metadata": {},
     "output_type": "execute_result"
    }
   ],
   "source": [
    "train_seed"
   ]
  },
  {
   "cell_type": "markdown",
   "metadata": {},
   "source": [
    "Grab the portion of the results that are generated values and apply inverse_transform on them to turn them back into milk production value units lbs per cow and reshape results to be (12,1)"
   ]
  },
  {
   "cell_type": "code",
   "execution_count": 21,
   "metadata": {},
   "outputs": [],
   "source": [
    "results = scaler.inverse_transform(np.array(train_seed[12:]).reshape(12,1))"
   ]
  },
  {
   "cell_type": "markdown",
   "metadata": {},
   "source": [
    "Create a new coloumn on test_set called \"Generated\" and set it equal to the generated results"
   ]
  },
  {
   "cell_type": "code",
   "execution_count": 22,
   "metadata": {},
   "outputs": [
    {
     "name": "stderr",
     "output_type": "stream",
     "text": [
      "C:\\Users\\Soham\\Anaconda3\\lib\\site-packages\\ipykernel_launcher.py:1: SettingWithCopyWarning: \n",
      "A value is trying to be set on a copy of a slice from a DataFrame.\n",
      "Try using .loc[row_indexer,col_indexer] = value instead\n",
      "\n",
      "See the caveats in the documentation: http://pandas.pydata.org/pandas-docs/stable/indexing.html#indexing-view-versus-copy\n",
      "  \"\"\"Entry point for launching an IPython kernel.\n"
     ]
    }
   ],
   "source": [
    "test_set['Generated'] = results"
   ]
  },
  {
   "cell_type": "code",
   "execution_count": 23,
   "metadata": {},
   "outputs": [
    {
     "data": {
      "text/html": [
       "<div>\n",
       "<style scoped>\n",
       "    .dataframe tbody tr th:only-of-type {\n",
       "        vertical-align: middle;\n",
       "    }\n",
       "\n",
       "    .dataframe tbody tr th {\n",
       "        vertical-align: top;\n",
       "    }\n",
       "\n",
       "    .dataframe thead th {\n",
       "        text-align: right;\n",
       "    }\n",
       "</style>\n",
       "<table border=\"1\" class=\"dataframe\">\n",
       "  <thead>\n",
       "    <tr style=\"text-align: right;\">\n",
       "      <th></th>\n",
       "      <th>Monthly milk production (pounds per cow)</th>\n",
       "      <th>Generated</th>\n",
       "    </tr>\n",
       "    <tr>\n",
       "      <th>Month</th>\n",
       "      <th></th>\n",
       "      <th></th>\n",
       "    </tr>\n",
       "  </thead>\n",
       "  <tbody>\n",
       "    <tr>\n",
       "      <th>1975-01-01</th>\n",
       "      <td>834</td>\n",
       "      <td>894.981506</td>\n",
       "    </tr>\n",
       "    <tr>\n",
       "      <th>1975-02-01</th>\n",
       "      <td>782</td>\n",
       "      <td>899.340149</td>\n",
       "    </tr>\n",
       "    <tr>\n",
       "      <th>1975-03-01</th>\n",
       "      <td>892</td>\n",
       "      <td>901.845215</td>\n",
       "    </tr>\n",
       "    <tr>\n",
       "      <th>1975-04-01</th>\n",
       "      <td>903</td>\n",
       "      <td>902.335510</td>\n",
       "    </tr>\n",
       "    <tr>\n",
       "      <th>1975-05-01</th>\n",
       "      <td>966</td>\n",
       "      <td>905.973877</td>\n",
       "    </tr>\n",
       "    <tr>\n",
       "      <th>1975-06-01</th>\n",
       "      <td>937</td>\n",
       "      <td>906.924927</td>\n",
       "    </tr>\n",
       "    <tr>\n",
       "      <th>1975-07-01</th>\n",
       "      <td>896</td>\n",
       "      <td>906.636597</td>\n",
       "    </tr>\n",
       "    <tr>\n",
       "      <th>1975-08-01</th>\n",
       "      <td>858</td>\n",
       "      <td>903.260803</td>\n",
       "    </tr>\n",
       "    <tr>\n",
       "      <th>1975-09-01</th>\n",
       "      <td>817</td>\n",
       "      <td>895.836914</td>\n",
       "    </tr>\n",
       "    <tr>\n",
       "      <th>1975-10-01</th>\n",
       "      <td>827</td>\n",
       "      <td>888.312622</td>\n",
       "    </tr>\n",
       "    <tr>\n",
       "      <th>1975-11-01</th>\n",
       "      <td>797</td>\n",
       "      <td>877.979614</td>\n",
       "    </tr>\n",
       "    <tr>\n",
       "      <th>1975-12-01</th>\n",
       "      <td>843</td>\n",
       "      <td>874.082031</td>\n",
       "    </tr>\n",
       "  </tbody>\n",
       "</table>\n",
       "</div>"
      ],
      "text/plain": [
       "            Monthly milk production (pounds per cow)   Generated\n",
       "Month                                                           \n",
       "1975-01-01                                       834  894.981506\n",
       "1975-02-01                                       782  899.340149\n",
       "1975-03-01                                       892  901.845215\n",
       "1975-04-01                                       903  902.335510\n",
       "1975-05-01                                       966  905.973877\n",
       "1975-06-01                                       937  906.924927\n",
       "1975-07-01                                       896  906.636597\n",
       "1975-08-01                                       858  903.260803\n",
       "1975-09-01                                       817  895.836914\n",
       "1975-10-01                                       827  888.312622\n",
       "1975-11-01                                       797  877.979614\n",
       "1975-12-01                                       843  874.082031"
      ]
     },
     "execution_count": 23,
     "metadata": {},
     "output_type": "execute_result"
    }
   ],
   "source": [
    "test_set"
   ]
  },
  {
   "cell_type": "markdown",
   "metadata": {},
   "source": [
    "## Plot out training-testing result for comparison"
   ]
  },
  {
   "cell_type": "code",
   "execution_count": 24,
   "metadata": {},
   "outputs": [
    {
     "data": {
      "text/plain": [
       "<matplotlib.axes._subplots.AxesSubplot at 0x13a1a978>"
      ]
     },
     "execution_count": 24,
     "metadata": {},
     "output_type": "execute_result"
    },
    {
     "data": {
      "image/png": "[encoded data removed]",
      "text/plain": [
       "<Figure size 432x288 with 1 Axes>"
      ]
     },
     "metadata": {
      "needs_background": "light"
     },
     "output_type": "display_data"
    }
   ],
   "source": [
    "test_set.plot()"
   ]
  },
  {
   "cell_type": "code",
   "execution_count": null,
   "metadata": {},
   "outputs": [],
   "source": []
  }
 ],
 "metadata": {
  "kernelspec": {
   "display_name": "Python 3",
   "language": "python",
   "name": "python3"
  },
  "language_info": {
   "codemirror_mode": {
    "name": "ipython",
    "version": 3
   },
   "file_extension": ".py",
   "mimetype": "text/x-python",
   "name": "python",
   "nbconvert_exporter": "python",
   "pygments_lexer": "ipython3",
   "version": "3.7.3"
  }
 },
 "nbformat": 4,
 "nbformat_minor": 2
}
